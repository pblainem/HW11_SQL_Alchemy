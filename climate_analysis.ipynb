{
 "cells": [
  {
   "cell_type": "code",
   "execution_count": 1,
   "metadata": {},
   "outputs": [
    {
     "data": {
      "text/html": [
       "<div>\n",
       "<style scoped>\n",
       "    .dataframe tbody tr th:only-of-type {\n",
       "        vertical-align: middle;\n",
       "    }\n",
       "\n",
       "    .dataframe tbody tr th {\n",
       "        vertical-align: top;\n",
       "    }\n",
       "\n",
       "    .dataframe thead th {\n",
       "        text-align: right;\n",
       "    }\n",
       "</style>\n",
       "<table border=\"1\" class=\"dataframe\">\n",
       "  <thead>\n",
       "    <tr style=\"text-align: right;\">\n",
       "      <th></th>\n",
       "      <th>station</th>\n",
       "      <th>date</th>\n",
       "      <th>prcp</th>\n",
       "      <th>tobs</th>\n",
       "    </tr>\n",
       "  </thead>\n",
       "  <tbody>\n",
       "    <tr>\n",
       "      <th>0</th>\n",
       "      <td>USC00519397</td>\n",
       "      <td>1/1/2010</td>\n",
       "      <td>0.08</td>\n",
       "      <td>65</td>\n",
       "    </tr>\n",
       "    <tr>\n",
       "      <th>1</th>\n",
       "      <td>USC00513117</td>\n",
       "      <td>1/1/2010</td>\n",
       "      <td>0.28</td>\n",
       "      <td>67</td>\n",
       "    </tr>\n",
       "    <tr>\n",
       "      <th>2</th>\n",
       "      <td>USC00518838</td>\n",
       "      <td>1/1/2010</td>\n",
       "      <td>0.21</td>\n",
       "      <td>72</td>\n",
       "    </tr>\n",
       "    <tr>\n",
       "      <th>3</th>\n",
       "      <td>USC00519523</td>\n",
       "      <td>1/1/2010</td>\n",
       "      <td>0.15</td>\n",
       "      <td>75</td>\n",
       "    </tr>\n",
       "    <tr>\n",
       "      <th>4</th>\n",
       "      <td>USC00519281</td>\n",
       "      <td>1/1/2010</td>\n",
       "      <td>0.15</td>\n",
       "      <td>70</td>\n",
       "    </tr>\n",
       "  </tbody>\n",
       "</table>\n",
       "</div>"
      ],
      "text/plain": [
       "       station      date  prcp  tobs\n",
       "0  USC00519397  1/1/2010  0.08    65\n",
       "1  USC00513117  1/1/2010  0.28    67\n",
       "2  USC00518838  1/1/2010  0.21    72\n",
       "3  USC00519523  1/1/2010  0.15    75\n",
       "4  USC00519281  1/1/2010  0.15    70"
      ]
     },
     "execution_count": 1,
     "metadata": {},
     "output_type": "execute_result"
    }
   ],
   "source": [
    "#import csv files\n",
    "matplotliv notebook\n",
    "from matplotlib import style\n",
    "import matplotlib.pyplot as plt\n",
    "\n",
    "import os\n",
    "import pandas as pd\n",
    "import csv\n",
    "import matplotlib as plt\n",
    "import datetime as dt\n",
    "from sqlalchemy import create_engine, inspect, func\n",
    "from sqlalchemy.ext.automap import automap_base\n",
    "from sqlalchemy.orm import Session\n",
    "import seaborn as sns\n",
    "import matplotlib.pyplot as plt\n",
    "import numpy as np\n",
    "import matplotlib.dates as mdates\n",
    "import matplotlib.cbook as cbook\n",
    "from sqlalchemy.orm import sessionmaker\n",
    "\n",
    "\n",
    "\n",
    "# Define start/end variables\n",
    "startDate = dt.date(2016,11,21)\n",
    "endDate = dt.date(2016,11,30)\n",
    "\n",
    "\n",
    "cln_HImeasCSVpath = os.path.join(\"Resources\", \"clean_hawaii_measurements.csv\")\n",
    "cln_HIstationCSVpath= os.path.join(\"Resources\", \"clean_hawaii_stations.csv\")\n",
    "\n",
    "measurementsDF = pd.read_csv(cln_HImeasCSVpath)\n",
    "measurementsDF = measurementsDF.drop('Unnamed: 0', axis = 1)\n",
    "stationsDF = pd.read_csv(cln_HIstationCSVpath)\n",
    "stationsDF = stationsDF.drop('Unnamed: 0', axis = 1)\n",
    "stationsDF['name'] = stationsDF['name'].str.rstrip(', HI US')\n",
    "\n",
    "\n",
    "measurementsDF.head()"
   ]
  },
  {
   "cell_type": "code",
   "execution_count": 44,
   "metadata": {},
   "outputs": [
    {
     "data": {
      "text/html": [
       "<div>\n",
       "<style scoped>\n",
       "    .dataframe tbody tr th:only-of-type {\n",
       "        vertical-align: middle;\n",
       "    }\n",
       "\n",
       "    .dataframe tbody tr th {\n",
       "        vertical-align: top;\n",
       "    }\n",
       "\n",
       "    .dataframe thead th {\n",
       "        text-align: right;\n",
       "    }\n",
       "</style>\n",
       "<table border=\"1\" class=\"dataframe\">\n",
       "  <thead>\n",
       "    <tr style=\"text-align: right;\">\n",
       "      <th></th>\n",
       "      <th>station</th>\n",
       "      <th>name</th>\n",
       "      <th>latitude</th>\n",
       "      <th>longitude</th>\n",
       "      <th>elevation</th>\n",
       "    </tr>\n",
       "  </thead>\n",
       "  <tbody>\n",
       "    <tr>\n",
       "      <th>0</th>\n",
       "      <td>USC00519397</td>\n",
       "      <td>WAIKIKI 717.2</td>\n",
       "      <td>21.27160</td>\n",
       "      <td>-157.81680</td>\n",
       "      <td>3.0</td>\n",
       "    </tr>\n",
       "    <tr>\n",
       "      <th>1</th>\n",
       "      <td>USC00513117</td>\n",
       "      <td>KANEOHE 838.1</td>\n",
       "      <td>21.42340</td>\n",
       "      <td>-157.80150</td>\n",
       "      <td>14.6</td>\n",
       "    </tr>\n",
       "    <tr>\n",
       "      <th>2</th>\n",
       "      <td>USC00514830</td>\n",
       "      <td>KUALOA RANCH HEADQUARTERS 886.9</td>\n",
       "      <td>21.52130</td>\n",
       "      <td>-157.83740</td>\n",
       "      <td>7.0</td>\n",
       "    </tr>\n",
       "    <tr>\n",
       "      <th>3</th>\n",
       "      <td>USC00517948</td>\n",
       "      <td>PEARL CITY</td>\n",
       "      <td>21.39340</td>\n",
       "      <td>-157.97510</td>\n",
       "      <td>11.9</td>\n",
       "    </tr>\n",
       "    <tr>\n",
       "      <th>4</th>\n",
       "      <td>USC00518838</td>\n",
       "      <td>UPPER WAHIAWA 874.3</td>\n",
       "      <td>21.49920</td>\n",
       "      <td>-158.01110</td>\n",
       "      <td>306.6</td>\n",
       "    </tr>\n",
       "    <tr>\n",
       "      <th>5</th>\n",
       "      <td>USC00519523</td>\n",
       "      <td>WAIMANALO EXPERIMENTAL FARM</td>\n",
       "      <td>21.33556</td>\n",
       "      <td>-157.71139</td>\n",
       "      <td>19.5</td>\n",
       "    </tr>\n",
       "    <tr>\n",
       "      <th>6</th>\n",
       "      <td>USC00519281</td>\n",
       "      <td>WAIHEE 837.5</td>\n",
       "      <td>21.45167</td>\n",
       "      <td>-157.84889</td>\n",
       "      <td>32.9</td>\n",
       "    </tr>\n",
       "    <tr>\n",
       "      <th>7</th>\n",
       "      <td>USC00511918</td>\n",
       "      <td>HONOLULU OBSERVATORY 702.2</td>\n",
       "      <td>21.31520</td>\n",
       "      <td>-157.99920</td>\n",
       "      <td>0.9</td>\n",
       "    </tr>\n",
       "    <tr>\n",
       "      <th>8</th>\n",
       "      <td>USC00516128</td>\n",
       "      <td>MANOA LYON ARBO 785.2</td>\n",
       "      <td>21.33310</td>\n",
       "      <td>-157.80250</td>\n",
       "      <td>152.4</td>\n",
       "    </tr>\n",
       "  </tbody>\n",
       "</table>\n",
       "</div>"
      ],
      "text/plain": [
       "       station                             name  latitude  longitude  \\\n",
       "0  USC00519397                    WAIKIKI 717.2  21.27160 -157.81680   \n",
       "1  USC00513117                    KANEOHE 838.1  21.42340 -157.80150   \n",
       "2  USC00514830  KUALOA RANCH HEADQUARTERS 886.9  21.52130 -157.83740   \n",
       "3  USC00517948                       PEARL CITY  21.39340 -157.97510   \n",
       "4  USC00518838              UPPER WAHIAWA 874.3  21.49920 -158.01110   \n",
       "5  USC00519523      WAIMANALO EXPERIMENTAL FARM  21.33556 -157.71139   \n",
       "6  USC00519281                     WAIHEE 837.5  21.45167 -157.84889   \n",
       "7  USC00511918       HONOLULU OBSERVATORY 702.2  21.31520 -157.99920   \n",
       "8  USC00516128            MANOA LYON ARBO 785.2  21.33310 -157.80250   \n",
       "\n",
       "   elevation  \n",
       "0        3.0  \n",
       "1       14.6  \n",
       "2        7.0  \n",
       "3       11.9  \n",
       "4      306.6  \n",
       "5       19.5  \n",
       "6       32.9  \n",
       "7        0.9  \n",
       "8      152.4  "
      ]
     },
     "execution_count": 44,
     "metadata": {},
     "output_type": "execute_result"
    }
   ],
   "source": [
    "stationsDF.head(20)"
   ]
  },
  {
   "cell_type": "code",
   "execution_count": 3,
   "metadata": {},
   "outputs": [
    {
     "name": "stdout",
     "output_type": "stream",
     "text": [
      "measurementsDF shape: (18103, 4)\n",
      "stationsDF shape: (9, 5)\n"
     ]
    }
   ],
   "source": [
    "print(f'measurementsDF shape: {measurementsDF.shape}')\n",
    "print(f'stationsDF shape: {stationsDF.shape}')"
   ]
  },
  {
   "cell_type": "code",
   "execution_count": 14,
   "metadata": {},
   "outputs": [
    {
     "name": "stdout",
     "output_type": "stream",
     "text": [
      "table names: ['measurements', 'stations']\n",
      "\n",
      "measurements table columns:\n",
      "column name:  id,  column type:  INTEGER\n",
      "column name:  station,  column type:  VARCHAR(255)\n",
      "column name:  date,  column type:  VARCHAR(255)\n",
      "column name:  prcp,  column type:  FLOAT\n",
      "column name:  tobs,  column type:  INTEGER\n",
      "\n",
      "stations table columns:\n",
      "column name:  id,  column type:  INTEGER\n",
      "column name:  station,  column type:  VARCHAR(255)\n",
      "column name:  name,  column type:  VARCHAR(255)\n",
      "column name:  latitude,  column type:  FLOAT\n",
      "column name:  longitude,  column type:  FLOAT\n",
      "column name:  elevation,  column type:  FLOAT\n"
     ]
    }
   ],
   "source": [
    "# Use 3 slashes when connecting to sqlite database\n",
    "path_to_file = os.path.join(\"Resources\", \"hawaii.sqlite\")\n",
    "engine = create_engine(f'sqlite:///{path_to_file}')\n",
    "inspector = inspect(engine)\n",
    "print(f\"table names: {inspector.get_table_names()}\")\n",
    "\n",
    "\n",
    "\n",
    "# Get a list of column names and types\n",
    "columns = inspector.get_columns('measurements')\n",
    "print('''\n",
    "measurements table columns:''')\n",
    "for column in columns:\n",
    "        print(f\"column name:  {column['name']},  column type:  {column['type']}\")\n",
    "columns = inspector.get_columns('stations')\n",
    "print('''\n",
    "stations table columns:''')\n",
    "for column in columns:\n",
    "        print(f\"column name:  {column['name']},  column type:  {column['type']}\")\n",
    "\n"
   ]
  },
  {
   "cell_type": "code",
   "execution_count": 16,
   "metadata": {},
   "outputs": [],
   "source": [
    "Base = automap_base()\n",
    "Base.prepare(engine, reflect=True)\n",
    "Measurements = Base.classes.measurements\n",
    "Stations = Base.classes.stations\n"
   ]
  },
  {
   "cell_type": "code",
   "execution_count": 20,
   "metadata": {
    "scrolled": true
   },
   "outputs": [
    {
     "name": "stdout",
     "output_type": "stream",
     "text": [
      "Latest Date = 2017-08-23\n",
      "1 Year Before That = 2016-08-23\n"
     ]
    }
   ],
   "source": [
    "# Find most recent date\n",
    "session = Session(engine)\n",
    "latestDate = session.query(Measurements.date).order_by(Measurements.date.desc()).first()\n",
    "latestDate = latestDate[0]\n",
    "print(f'Latest Date = {latestDate}')\n",
    "yearAgo = dt.date(2017, 8, 23) - dt.timedelta(days=365)\n",
    "print(f'1 Year Before That = {yearAgo}')"
   ]
  },
  {
   "cell_type": "code",
   "execution_count": 29,
   "metadata": {},
   "outputs": [
    {
     "data": {
      "text/html": [
       "<div>\n",
       "<style scoped>\n",
       "    .dataframe tbody tr th:only-of-type {\n",
       "        vertical-align: middle;\n",
       "    }\n",
       "\n",
       "    .dataframe tbody tr th {\n",
       "        vertical-align: top;\n",
       "    }\n",
       "\n",
       "    .dataframe thead th {\n",
       "        text-align: right;\n",
       "    }\n",
       "</style>\n",
       "<table border=\"1\" class=\"dataframe\">\n",
       "  <thead>\n",
       "    <tr style=\"text-align: right;\">\n",
       "      <th></th>\n",
       "      <th>precipitation</th>\n",
       "    </tr>\n",
       "    <tr>\n",
       "      <th>date</th>\n",
       "      <th></th>\n",
       "    </tr>\n",
       "  </thead>\n",
       "  <tbody>\n",
       "    <tr>\n",
       "      <th>2016-08-23</th>\n",
       "      <td>0.00</td>\n",
       "    </tr>\n",
       "    <tr>\n",
       "      <th>2016-08-24</th>\n",
       "      <td>0.08</td>\n",
       "    </tr>\n",
       "    <tr>\n",
       "      <th>2016-08-25</th>\n",
       "      <td>0.08</td>\n",
       "    </tr>\n",
       "    <tr>\n",
       "      <th>2016-08-26</th>\n",
       "      <td>0.00</td>\n",
       "    </tr>\n",
       "    <tr>\n",
       "      <th>2016-08-27</th>\n",
       "      <td>0.00</td>\n",
       "    </tr>\n",
       "  </tbody>\n",
       "</table>\n",
       "</div>"
      ],
      "text/plain": [
       "            precipitation\n",
       "date                     \n",
       "2016-08-23           0.00\n",
       "2016-08-24           0.08\n",
       "2016-08-25           0.08\n",
       "2016-08-26           0.00\n",
       "2016-08-27           0.00"
      ]
     },
     "execution_count": 29,
     "metadata": {},
     "output_type": "execute_result"
    }
   ],
   "source": [
    "# Query the database for  a year's worth of precipitation data\n",
    "yearOfPrecip = (session\n",
    " .query(Measurements.date, Measurements.prcp)\n",
    " .filter(Measurements.date >= yearAgo)\n",
    " .filter(Measurements.date <= latestDate)\n",
    " .all())\n",
    "\n",
    "# Turn query results into a database\n",
    "yearOfPrecipDF = pd.DataFrame(yearOfPrecip, columns = ['date', 'precipitation'])\n",
    "\n",
    "# convert the date column to datetime objects\n",
    "yearOfPrecipDF['date'] = pd.to_datetime(yearOfPrecipDF.date)\n",
    "\n",
    "# yearOfPrecipDF = yearOfPrecipDF.set_index('date')\n",
    "\n",
    "# sort table so the oldest to newest\n",
    "yearOfPrecipDF.sort_values(by = 'date')\n",
    "yearOfPrecipDF.head()\n",
    "yearOfPrecipDF.set_index('date', inplace=True)  #inplace = True is an alternative to yearOfPrecipDF = yearOfPrecipDF.set_index('date')\n",
    "yearOfPrecipDF.head()\n"
   ]
  },
  {
   "cell_type": "code",
   "execution_count": 144,
   "metadata": {},
   "outputs": [
    {
     "data": {
      "image/png": "[encoded data removed]",
      "text/plain": [
       "<matplotlib.figure.Figure at 0x1bd7505ee80>"
      ]
     },
     "metadata": {},
     "output_type": "display_data"
    }
   ],
   "source": [
    "yearOfPrecipDF.plot()\n",
    "plt.xticks(rotation=45)\n",
    "plt.tight_layout()"
   ]
  },
  {
   "cell_type": "code",
   "execution_count": 39,
   "metadata": {},
   "outputs": [
    {
     "data": {
      "text/html": [
       "<div>\n",
       "<style scoped>\n",
       "    .dataframe tbody tr th:only-of-type {\n",
       "        vertical-align: middle;\n",
       "    }\n",
       "\n",
       "    .dataframe tbody tr th {\n",
       "        vertical-align: top;\n",
       "    }\n",
       "\n",
       "    .dataframe thead th {\n",
       "        text-align: right;\n",
       "    }\n",
       "</style>\n",
       "<table border=\"1\" class=\"dataframe\">\n",
       "  <thead>\n",
       "    <tr style=\"text-align: right;\">\n",
       "      <th></th>\n",
       "      <th>precipitation</th>\n",
       "    </tr>\n",
       "  </thead>\n",
       "  <tbody>\n",
       "    <tr>\n",
       "      <th>count</th>\n",
       "      <td>2021.000000</td>\n",
       "    </tr>\n",
       "    <tr>\n",
       "      <th>mean</th>\n",
       "      <td>0.177279</td>\n",
       "    </tr>\n",
       "    <tr>\n",
       "      <th>std</th>\n",
       "      <td>0.461190</td>\n",
       "    </tr>\n",
       "    <tr>\n",
       "      <th>min</th>\n",
       "      <td>0.000000</td>\n",
       "    </tr>\n",
       "    <tr>\n",
       "      <th>25%</th>\n",
       "      <td>0.000000</td>\n",
       "    </tr>\n",
       "    <tr>\n",
       "      <th>50%</th>\n",
       "      <td>0.020000</td>\n",
       "    </tr>\n",
       "    <tr>\n",
       "      <th>75%</th>\n",
       "      <td>0.130000</td>\n",
       "    </tr>\n",
       "    <tr>\n",
       "      <th>max</th>\n",
       "      <td>6.700000</td>\n",
       "    </tr>\n",
       "  </tbody>\n",
       "</table>\n",
       "</div>"
      ],
      "text/plain": [
       "       precipitation\n",
       "count    2021.000000\n",
       "mean        0.177279\n",
       "std         0.461190\n",
       "min         0.000000\n",
       "25%         0.000000\n",
       "50%         0.020000\n",
       "75%         0.130000\n",
       "max         6.700000"
      ]
     },
     "execution_count": 39,
     "metadata": {},
     "output_type": "execute_result"
    }
   ],
   "source": [
    "# Use Pandas to calculate the summary statistics for the precipitation data\n",
    "yearOfPrecipDF.describe()\n"
   ]
  },
  {
   "cell_type": "code",
   "execution_count": 89,
   "metadata": {},
   "outputs": [
    {
     "name": "stdout",
     "output_type": "stream",
     "text": [
      "there are 9 stations\n"
     ]
    }
   ],
   "source": [
    "# How many stations are available in this dataset?\n",
    "\n",
    "stationCount = (session.query(Stations.station).group_by(Stations.station).count())\n",
    "# equivalently:\n",
    "# stationCount = session.query(func.count(Stations.station)).all()[0][0]\n",
    "\n",
    "print(f'there are {stationCount} stations')\n"
   ]
  },
  {
   "cell_type": "code",
   "execution_count": 109,
   "metadata": {},
   "outputs": [
    {
     "data": {
      "text/html": [
       "<div>\n",
       "<style scoped>\n",
       "    .dataframe tbody tr th:only-of-type {\n",
       "        vertical-align: middle;\n",
       "    }\n",
       "\n",
       "    .dataframe tbody tr th {\n",
       "        vertical-align: top;\n",
       "    }\n",
       "\n",
       "    .dataframe thead th {\n",
       "        text-align: right;\n",
       "    }\n",
       "</style>\n",
       "<table border=\"1\" class=\"dataframe\">\n",
       "  <thead>\n",
       "    <tr style=\"text-align: right;\">\n",
       "      <th></th>\n",
       "      <th>station</th>\n",
       "      <th>measurement_count</th>\n",
       "    </tr>\n",
       "  </thead>\n",
       "  <tbody>\n",
       "    <tr>\n",
       "      <th>0</th>\n",
       "      <td>USC00519281</td>\n",
       "      <td>2772</td>\n",
       "    </tr>\n",
       "    <tr>\n",
       "      <th>1</th>\n",
       "      <td>USC00513117</td>\n",
       "      <td>2696</td>\n",
       "    </tr>\n",
       "    <tr>\n",
       "      <th>2</th>\n",
       "      <td>USC00519397</td>\n",
       "      <td>2685</td>\n",
       "    </tr>\n",
       "    <tr>\n",
       "      <th>3</th>\n",
       "      <td>USC00519523</td>\n",
       "      <td>2572</td>\n",
       "    </tr>\n",
       "    <tr>\n",
       "      <th>4</th>\n",
       "      <td>USC00516128</td>\n",
       "      <td>2484</td>\n",
       "    </tr>\n",
       "    <tr>\n",
       "      <th>5</th>\n",
       "      <td>USC00514830</td>\n",
       "      <td>1937</td>\n",
       "    </tr>\n",
       "    <tr>\n",
       "      <th>6</th>\n",
       "      <td>USC00511918</td>\n",
       "      <td>1932</td>\n",
       "    </tr>\n",
       "    <tr>\n",
       "      <th>7</th>\n",
       "      <td>USC00517948</td>\n",
       "      <td>683</td>\n",
       "    </tr>\n",
       "    <tr>\n",
       "      <th>8</th>\n",
       "      <td>USC00518838</td>\n",
       "      <td>342</td>\n",
       "    </tr>\n",
       "  </tbody>\n",
       "</table>\n",
       "</div>"
      ],
      "text/plain": [
       "       station  measurement_count\n",
       "0  USC00519281               2772\n",
       "1  USC00513117               2696\n",
       "2  USC00519397               2685\n",
       "3  USC00519523               2572\n",
       "4  USC00516128               2484\n",
       "5  USC00514830               1937\n",
       "6  USC00511918               1932\n",
       "7  USC00517948                683\n",
       "8  USC00518838                342"
      ]
     },
     "execution_count": 109,
     "metadata": {},
     "output_type": "execute_result"
    }
   ],
   "source": [
    "# What are the most active stations?\n",
    "# List the stations and the counts in descending order.\n",
    "\n",
    "stationActivity = (session\n",
    "    .query(Measurements.station, func.count(Measurements.prcp))\n",
    "    .group_by(Measurements.station)\n",
    "    .order_by(func.count(Measurements.prcp).desc())\n",
    "    )\n",
    "results = session.execute(stationActivity).fetchall()\n",
    "stationActivityDF = pd.DataFrame(results, columns = ['station', 'measurement_count'])\n",
    "\n",
    "stationActivityDF.head(10)\n"
   ]
  },
  {
   "cell_type": "code",
   "execution_count": 124,
   "metadata": {},
   "outputs": [
    {
     "name": "stdout",
     "output_type": "stream",
     "text": [
      "Maximum temperature of station USC00519281 = 85\n",
      "Minimum temperature of station USC00519281 = 54\n",
      "Average temperature of station USC00519281 = 71.66378066378067\n"
     ]
    }
   ],
   "source": [
    "# Using the station id from the previous query, calculate the lowest temperature recorded\n",
    "# highest temperature recourded, and averge temperature most active station\n",
    "\n",
    "maxTemp = (session\n",
    "    .query(Measurements.station, func.max(Measurements.tobs))\n",
    "    .group_by(Measurements.station)\n",
    "    .filter(Measurements.station == \"USC00519281\")\n",
    "    )\n",
    "\n",
    "minTemp = (session\n",
    "    .query(Measurements.station, func.min(Measurements.tobs))\n",
    "    .group_by(Measurements.station)\n",
    "    .filter(Measurements.station == \"USC00519281\")\n",
    "    )\n",
    "\n",
    "avgTemp = (session\n",
    "    .query(Measurements.station, func.avg(Measurements.tobs))\n",
    "    .group_by(Measurements.station)\n",
    "    .filter(Measurements.station == \"USC00519281\")\n",
    "    )\n",
    "\n",
    "results = session.execute(maxTemp).fetchall()\n",
    "print(f\"Maximum temperature of station {results[0][0]} = {results[0][1]}\")\n",
    "\n",
    "results = session.execute(minTemp).fetchall()\n",
    "print(f\"Minimum temperature of station {results[0][0]} = {results[0][1]}\")\n",
    "\n",
    "results = session.execute(avgTemp).fetchall()\n",
    "print(f\"Average temperature of station {results[0][0]} = {results[0][1]}\")\n",
    "# print(results)"
   ]
  },
  {
   "cell_type": "code",
   "execution_count": 137,
   "metadata": {},
   "outputs": [
    {
     "data": {
      "text/plain": [
       "<matplotlib.axes._subplots.AxesSubplot at 0x1bd750c6f60>"
      ]
     },
     "execution_count": 137,
     "metadata": {},
     "output_type": "execute_result"
    },
    {
     "data": {
      "image/png": "[encoded data removed]",
      "text/plain": [
       "<matplotlib.figure.Figure at 0x1bd7517a2b0>"
      ]
     },
     "metadata": {},
     "output_type": "display_data"
    }
   ],
   "source": [
    "# Choose the station with the highest number of temperature observations\n",
    "# Query the last 12 months of temperature observation data for this station\n",
    "lastYear = (session\n",
    "           .query(Measurements.tobs)\n",
    "           .filter(Measurements.station == \"USC00519281\")\n",
    "           .filter(Measurements.date >= yearAgo)\n",
    "           .filter(Measurements.date <= latestDate)\n",
    "           )\n",
    "\n",
    "results = session.execute(lastYear).fetchall()\n",
    "\n",
    "lastYearDF = pd.DataFrame(results, columns = ['temperature'])\n",
    "\n",
    "# lastYearDF.head(20)\n",
    "\n",
    "lastYearDF.plot(kind='hist')"
   ]
  },
  {
   "cell_type": "code",
   "execution_count": null,
   "metadata": {},
   "outputs": [],
   "source": [
    "# Set default formatting\n",
    "style.use('fivethirtyeight')\n",
    "\n",
    "sns.set_style(\"darkgrid\", {\"axes.facecolor\": \"0.9\"})\n",
    "\n",
    "years = mdates.YearLocator()   # every year\n",
    "months = mdates.MonthLocator()  # every month\n",
    "yearsFmt = mdates.DateFormatter('%Y')\n",
    "\n",
    "fig, ax = plt.subplots()\n",
    "ax.plot(yearOfPrecipDF.date, yearOfPrecipDF.prcp)\n",
    "# plt.scatter(yearOfPrecipDF.date, yearOfPrecipDF.prcp)\n",
    "\n",
    "# yearOfPrecipDF.plot(kind='scatter', x='date', y='prcp')\n",
    "ymin = 0\n",
    "ylim = 7\n",
    "# xmin = startDate\n",
    "# xlim = endDate\n",
    "\n",
    "# horLines = np.arange(ymin,ylim, 1)\n",
    "# verLines = np.arange(xmin,xlim+20, 50)\n",
    "\n",
    "# sns.lmplot(x = 'date', y = 'prcp',  data=yearOfPrecipDF, fit_reg=False)\n",
    "fig.autofmt_xdate()\n",
    "\n",
    "## STILL NEED TO PRINT OUT FIGURE"
   ]
  },
  {
   "cell_type": "code",
   "execution_count": 47,
   "metadata": {},
   "outputs": [
    {
     "data": {
      "text/html": [
       "<div>\n",
       "<style scoped>\n",
       "    .dataframe tbody tr th:only-of-type {\n",
       "        vertical-align: middle;\n",
       "    }\n",
       "\n",
       "    .dataframe tbody tr th {\n",
       "        vertical-align: top;\n",
       "    }\n",
       "\n",
       "    .dataframe thead th {\n",
       "        text-align: right;\n",
       "    }\n",
       "</style>\n",
       "<table border=\"1\" class=\"dataframe\">\n",
       "  <thead>\n",
       "    <tr style=\"text-align: right;\">\n",
       "      <th></th>\n",
       "      <th>precipitation</th>\n",
       "    </tr>\n",
       "  </thead>\n",
       "  <tbody>\n",
       "    <tr>\n",
       "      <th>count</th>\n",
       "      <td>2021.000000</td>\n",
       "    </tr>\n",
       "    <tr>\n",
       "      <th>mean</th>\n",
       "      <td>0.177279</td>\n",
       "    </tr>\n",
       "    <tr>\n",
       "      <th>std</th>\n",
       "      <td>0.461190</td>\n",
       "    </tr>\n",
       "    <tr>\n",
       "      <th>min</th>\n",
       "      <td>0.000000</td>\n",
       "    </tr>\n",
       "    <tr>\n",
       "      <th>25%</th>\n",
       "      <td>0.000000</td>\n",
       "    </tr>\n",
       "    <tr>\n",
       "      <th>50%</th>\n",
       "      <td>0.020000</td>\n",
       "    </tr>\n",
       "    <tr>\n",
       "      <th>75%</th>\n",
       "      <td>0.130000</td>\n",
       "    </tr>\n",
       "    <tr>\n",
       "      <th>max</th>\n",
       "      <td>6.700000</td>\n",
       "    </tr>\n",
       "  </tbody>\n",
       "</table>\n",
       "</div>"
      ],
      "text/plain": [
       "       precipitation\n",
       "count    2021.000000\n",
       "mean        0.177279\n",
       "std         0.461190\n",
       "min         0.000000\n",
       "25%         0.000000\n",
       "50%         0.020000\n",
       "75%         0.130000\n",
       "max         6.700000"
      ]
     },
     "execution_count": 47,
     "metadata": {},
     "output_type": "execute_result"
    }
   ],
   "source": [
    "yearOfPrecipDF.describe()"
   ]
  },
  {
   "cell_type": "code",
   "execution_count": 70,
   "metadata": {},
   "outputs": [
    {
     "name": "stdout",
     "output_type": "stream",
     "text": [
      "9\n"
     ]
    }
   ],
   "source": [
    "stationCount = (session.query(Stations.station).count())\n",
    "\n",
    "print(stationCount)\n",
    "\n",
    "# StationDF = pd.DataFrame(stationList)\n",
    "# yearOfPrecipDF = yearOfPrecipDF.set_index('date')\n",
    "\n",
    "# StationDF.sort_values(by = 'date')\n",
    "# StationDF.head()"
   ]
  },
  {
   "cell_type": "code",
   "execution_count": null,
   "metadata": {},
   "outputs": [],
   "source": [
    "# stationMeasure = (session.query(Measurement.station))\n",
    "stationMeasurements = (session.query(Measurement.station, func.count(Measurement.prcp)).group_by(Measurement.station))\n",
    "result = session.execute(stationMeasurements).fetchall()\n",
    "# stationNames = \n",
    "\n",
    "stationMeasurementsDF = pd.DataFrame(result)\n",
    "stationMeasurementsDF.columns = ['station', 'measurements']\n",
    "# stationMeasurementsDF=stationMeasurementsDF.sort_values('measurements', ascending = False)\n",
    "# print()\n",
    "stationMeasurementsDF = pd.merge(stationMeasurementsDF, stationsDF, on=\"station\")\n",
    "\n",
    "\n",
    "\n",
    "stationMeasurementsDF.head(10)"
   ]
  },
  {
   "cell_type": "code",
   "execution_count": null,
   "metadata": {},
   "outputs": [],
   "source": [
    "# Most observations\n",
    "\n",
    "# mostObservations = max(stationMeasurementsDF['measurements'])\n",
    "# mostObservations\n",
    "\n",
    "maxStation = stationMeasurementsDF.iloc[0]['name']\n",
    "maxMeasurements = stationMeasurementsDF.iloc[0]['measurements']\n",
    "\n",
    "print(f'Station {maxStation} made the most measurements:   {maxMeasurements}')\n"
   ]
  },
  {
   "cell_type": "code",
   "execution_count": null,
   "metadata": {},
   "outputs": [],
   "source": [
    "# Plot observation count as histogram w/ bins = 12\n",
    "x_axis = np.arange(len(stationMeasurementsDF))\n",
    "plt.bar(x_axis, stationMeasurementsDF['measurements'])\n",
    "plt.xticks(x_axis, stationMeasurementsDF['name'])\n",
    "# fig, axes = plt.subplots(2, 2, figsize=(15, 8), dpi=200)\n",
    "fig, ax = plt.subplots()\n",
    "\n",
    "# ax = axes.flatten[0]\n",
    "ax.plot(data.index, data['value'])\n",
    "ax.get_xaxis().set_minor_locator(mpl.ticker.AutoMinorLocator())\n",
    "plt.setp(stationMeasurementsDF['name'].get_xticklabels(), rotation=30, horizontalalignment='right')\n",
    "plot(xrange(9))\n",
    "yticks(xrange(9), rotation='vertical')\n",
    "\n",
    "\n",
    "# fig.autofmt_xdate()\n",
    "\n",
    "# x_axis\n",
    "# y_values"
   ]
  },
  {
   "cell_type": "code",
   "execution_count": null,
   "metadata": {},
   "outputs": [],
   "source": [
    "def mask(df, key, value):\n",
    "     return df[df[key] == value]\n",
    "\n",
    "    \n",
    "    \n",
    "# measurementsDF = mask(measurementsDF, 'name', 'USC00511918')\n",
    "measurementsDF = measurementsDF[(measurementsDF['station'] == 'USC00511918')]\n",
    "\n",
    "\n",
    "plt.hist(measurementsDF['prcp'], normed=True, bins=30)\n"
   ]
  },
  {
   "cell_type": "code",
   "execution_count": null,
   "metadata": {},
   "outputs": [],
   "source": [
    "# Write a function called 'calc_temps' that will accept a start datae and end date\n",
    "# in the format '%Y-%m-%d' and return the minimum, average, and maximum temperature for\n",
    "# that range of dates\n"
   ]
  },
  {
   "cell_type": "code",
   "execution_count": null,
   "metadata": {},
   "outputs": [],
   "source": [
    "# Use the 'calc_temps' function to calculate the min, avg, and max temperatures for your\n",
    "# trip using the matching dates from the previous year (i.e. use \"2017-01-01\" if your\n",
    "# start date was \"2018-01-01\")"
   ]
  },
  {
   "cell_type": "code",
   "execution_count": null,
   "metadata": {},
   "outputs": [],
   "source": [
    "# Plot the min, avg, and max temperature from your previous query as a bar chart.\n",
    "# Use the average temperature as the bar height\n",
    "# Use the peak-to-peak (tmax-tmin) value as the y error bar (yerr)"
   ]
  },
  {
   "cell_type": "code",
   "execution_count": null,
   "metadata": {},
   "outputs": [],
   "source": [
    "# design a Flask API based on the queries that you have just developed.\n",
    "# Use FLASK to create your routes."
   ]
  },
  {
   "cell_type": "code",
   "execution_count": null,
   "metadata": {},
   "outputs": [],
   "source": [
    "# "
   ]
  },
  {
   "cell_type": "code",
   "execution_count": null,
   "metadata": {},
   "outputs": [],
   "source": []
  },
  {
   "cell_type": "code",
   "execution_count": null,
   "metadata": {},
   "outputs": [],
   "source": []
  }
 ],
 "metadata": {
  "kernelspec": {
   "display_name": "Python 3",
   "language": "python",
   "name": "python3"
  },
  "language_info": {
   "codemirror_mode": {
    "name": "ipython",
    "version": 3
   },
   "file_extension": ".py",
   "mimetype": "text/x-python",
   "name": "python",
   "nbconvert_exporter": "python",
   "pygments_lexer": "ipython3",
   "version": "3.6.4"
  }
 },
 "nbformat": 4,
 "nbformat_minor": 2
}
